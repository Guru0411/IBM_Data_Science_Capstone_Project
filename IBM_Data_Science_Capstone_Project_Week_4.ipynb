{
 "cells": [
  {
   "cell_type": "markdown",
   "id": "cb58f644",
   "metadata": {},
   "source": [
    "## RECOMMENDING BEST RESTAURANTS FOR TOURISTS VISITING BANGALORE FROM VARIOUS COUNTRIES"
   ]
  },
  {
   "cell_type": "markdown",
   "id": "4fac5988",
   "metadata": {},
   "source": [
    "## 1.\tBUSINESS PROBLEM"
   ]
  },
  {
   "cell_type": "markdown",
   "id": "f87007bd",
   "metadata": {},
   "source": [
    "### People usually love travelling and exploring places. Many people travel across the world and explore many things during their vacation. Some do this as this primary work as well. When you travel to a new country, the main thing that changes and may affect people is the FOOD. Few many adapt with the new food style, but few may not. But in all big cities, food style of many countries is served in many restaurants. This project focuses for tourists/travelers who are coming from various countries to a particular city in India, Bangalore. These tourists may or may not love the Bangalore food style. So, in order to feel them comfortable with the food style, this project helps them with the variety of food restaurants surrounding them. It could be Indian, Chinese, American etc. Based on the familiarity and the type of the restaurant, people could choose the restaurant they want to go. For this I have primarily made use of Foursquare neighborhood data technique which would help me to find the restaurants nearby a particular neighborhood."
   ]
  },
  {
   "cell_type": "markdown",
   "id": "b9e3e9d1",
   "metadata": {},
   "source": [
    "## 2.\tDATA ACQUISTION AND CLEANING"
   ]
  },
  {
   "cell_type": "markdown",
   "id": "4437e73a",
   "metadata": {},
   "source": [
    "### As I have chosen to work with Bangalore City, I need many location data related to Bangalore. I have collected as many neighborhood areas as possible in Bangalore City, their geographical locations like the latitude and longitude values etc. These neighborhood names, their latitude and longitude values could help me to proceed with my project. I have collected this information from various sites, cleaned and brought into a format which is easy to work with."
   ]
  },
  {
   "cell_type": "code",
   "execution_count": null,
   "id": "dcb523c3",
   "metadata": {},
   "outputs": [],
   "source": []
  }
 ],
 "metadata": {
  "kernelspec": {
   "display_name": "Python 3",
   "language": "python",
   "name": "python3"
  },
  "language_info": {
   "codemirror_mode": {
    "name": "ipython",
    "version": 3
   },
   "file_extension": ".py",
   "mimetype": "text/x-python",
   "name": "python",
   "nbconvert_exporter": "python",
   "pygments_lexer": "ipython3",
   "version": "3.8.8"
  }
 },
 "nbformat": 4,
 "nbformat_minor": 5
}
